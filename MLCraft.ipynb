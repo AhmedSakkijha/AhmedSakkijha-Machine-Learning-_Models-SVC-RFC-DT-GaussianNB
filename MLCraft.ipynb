{
  "nbformat": 4,
  "nbformat_minor": 0,
  "metadata": {
    "colab": {
      "provenance": [],
      "include_colab_link": true
    },
    "kernelspec": {
      "name": "python3",
      "display_name": "Python 3"
    },
    "language_info": {
      "name": "python"
    }
  },
  "cells": [
    {
      "cell_type": "markdown",
      "metadata": {
        "id": "view-in-github",
        "colab_type": "text"
      },
      "source": [
        "<a href=\"https://colab.research.google.com/github/AhmedSakkijha/AhmedSakkijha-Machine-Learning-_Models-SVC-RFC-DT-GaussianNB/blob/main/MLCraft.ipynb\" target=\"_parent\"><img src=\"https://colab.research.google.com/assets/colab-badge.svg\" alt=\"Open In Colab\"/></a>"
      ]
    },
    {
      "cell_type": "code",
      "source": [
        "import pandas as pd\n",
        "from sklearn.model_selection import train_test_split\n",
        "from sklearn.svm import SVC\n",
        "from sklearn.metrics import accuracy_score, precision_score, recall_score, f1_score\n",
        "\n",
        "data = pd.read_csv(\"MLCraft.csv\")\n",
        "\n",
        "data_encoded = pd.get_dummies(data, columns=['City', 'isused'])\n",
        "\n",
        "X = data_encoded.drop(columns=['id', 'price_range'])  # Assuming 'id' is not relevant for prediction\n",
        "y = data_encoded['price_range']\n",
        "\n",
        "X_train, X_test, y_train, y_test = train_test_split(X, y, test_size=0.2, random_state=42)\n",
        "\n",
        "model = SVC(kernel='rbf')\n",
        "model.fit(X_train, y_train)\n",
        "\n",
        "predictions = model.predict(X_test)\n",
        "\n",
        "accuracy = accuracy_score(y_test, predictions)\n",
        "print(\"Accuracy:\", accuracy)\n",
        "\n",
        "precision = precision_score(y_test, predictions, average='weighted')\n",
        "recall = recall_score(y_test, predictions, average='weighted')\n",
        "f1 = f1_score(y_test, predictions, average='weighted')\n",
        "\n",
        "print(\"\\nPrecision:\", precision)\n",
        "print(\"Recall:\", recall)\n",
        "print(\"F1-score:\", f1)\n"
      ],
      "metadata": {
        "colab": {
          "base_uri": "https://localhost:8080/"
        },
        "id": "zCnjC37fRHZ2",
        "outputId": "179e7cfd-0f84-46e6-a3c2-e14d001a6aa0"
      },
      "execution_count": null,
      "outputs": [
        {
          "output_type": "stream",
          "name": "stdout",
          "text": [
            "Accuracy: 0.9425\n",
            "\n",
            "Precision: 0.9453559105910592\n",
            "Recall: 0.9425\n",
            "F1-score: 0.94260265348693\n"
          ]
        }
      ]
    },
    {
      "cell_type": "code",
      "execution_count": null,
      "metadata": {
        "colab": {
          "base_uri": "https://localhost:8080/"
        },
        "id": "tpq3S0xkQ94S",
        "outputId": "5d6cab07-5d91-4999-eeb1-4ca71631472c"
      },
      "outputs": [
        {
          "output_type": "stream",
          "name": "stdout",
          "text": [
            "Accuracy: 0.8825\n",
            "\n",
            "Precision: 0.8837259615384616\n",
            "Recall: 0.8825\n",
            "F1-score: 0.8826658823529411\n"
          ]
        }
      ],
      "source": [
        "import pandas as pd\n",
        "from sklearn.model_selection import train_test_split\n",
        "from sklearn.ensemble import RandomForestClassifier\n",
        "from sklearn.metrics import accuracy_score\n",
        "from sklearn.metrics import accuracy_score, precision_score, recall_score, f1_score\n",
        "\n",
        "data = pd.read_csv(\"MLCraft.csv\")\n",
        "\n",
        "data_encoded = pd.get_dummies(data, columns=['City', 'isused'])\n",
        "\n",
        "X = data_encoded.drop(columns=['id', 'price_range'])\n",
        "y = data_encoded['price_range']\n",
        "X_train, X_test, y_train, y_test = train_test_split(X, y, test_size=0.2, random_state=42)\n",
        "\n",
        "model = RandomForestClassifier(n_estimators=100, random_state=42)\n",
        "model.fit(X_train, y_train)\n",
        "\n",
        "predictions = model.predict(X_test)\n",
        "\n",
        "accuracy = accuracy_score(y_test, predictions)\n",
        "print(\"Accuracy:\", accuracy)\n",
        "precision = precision_score(y_test, predictions, average='weighted')\n",
        "recall = recall_score(y_test, predictions, average='weighted')\n",
        "f1 = f1_score(y_test, predictions, average='weighted')\n",
        "\n",
        "print(\"\\nPrecision:\", precision)\n",
        "print(\"Recall:\", recall)\n",
        "print(\"F1-score:\", f1)\n"
      ]
    },
    {
      "cell_type": "code",
      "source": [
        "import pandas as pd\n",
        "from sklearn.model_selection import train_test_split\n",
        "from sklearn.naive_bayes import GaussianNB\n",
        "from sklearn.tree import DecisionTreeClassifier\n",
        "from sklearn.metrics import accuracy_score, precision_score, recall_score, f1_score\n",
        "\n",
        "data = pd.read_csv(\"MLCraft.csv\")\n",
        "data_encoded = pd.get_dummies(data, columns=['City', 'isused'])\n",
        "\n",
        "X = data_encoded.drop(columns=['id', 'price_range'])\n",
        "y = data_encoded['price_range']\n",
        "\n",
        "X_train, X_test, y_train, y_test = train_test_split(X, y, test_size=0.2, random_state=42)\n",
        "\n",
        "nb_model = GaussianNB()\n",
        "nb_model.fit(X_train, y_train)\n",
        "\n",
        "nb_predictions = nb_model.predict(X_test)\n",
        "\n",
        "nb_accuracy = accuracy_score(y_test, nb_predictions)\n",
        "nb_precision = precision_score(y_test, nb_predictions, average='weighted')\n",
        "nb_recall = recall_score(y_test, nb_predictions, average='weighted')\n",
        "nb_f1 = f1_score(y_test, nb_predictions, average='weighted')\n",
        "\n",
        "print(\"Naive Bayes Accuracy:\", nb_accuracy)\n",
        "print(\"Naive Bayes Precision:\", nb_precision)\n",
        "print(\"Naive Bayes Recall:\", nb_recall)\n",
        "print(\"Naive Bayes F1-score:\", nb_f1)\n",
        "\n",
        "dt_model = DecisionTreeClassifier(random_state=42)\n",
        "dt_model.fit(X_train, y_train)\n",
        "\n",
        "dt_predictions = dt_model.predict(X_test)\n",
        "\n",
        "dt_accuracy = accuracy_score(y_test, dt_predictions)\n",
        "dt_precision = precision_score(y_test, dt_predictions, average='weighted')\n",
        "dt_recall = recall_score(y_test, dt_predictions, average='weighted')\n",
        "dt_f1 = f1_score(y_test, dt_predictions, average='weighted')\n",
        "\n",
        "print(\"\\nDecision Tree Accuracy:\", dt_accuracy)\n",
        "print(\"Decision Tree Precision:\", dt_precision)\n",
        "print(\"Decision Tree Recall:\", dt_recall)\n",
        "print(\"Decision Tree F1-score:\", dt_f1)\n"
      ],
      "metadata": {
        "colab": {
          "base_uri": "https://localhost:8080/"
        },
        "id": "wBTAGBP4TKtr",
        "outputId": "e2f0be98-8faa-4036-a331-941a20946516"
      },
      "execution_count": null,
      "outputs": [
        {
          "output_type": "stream",
          "name": "stdout",
          "text": [
            "Naive Bayes Accuracy: 0.785\n",
            "Naive Bayes Precision: 0.7847043398951129\n",
            "Naive Bayes Recall: 0.785\n",
            "Naive Bayes F1-score: 0.7846742424242424\n",
            "\n",
            "Decision Tree Accuracy: 0.8875\n",
            "Decision Tree Precision: 0.8879829887595343\n",
            "Decision Tree Recall: 0.8875\n",
            "Decision Tree F1-score: 0.8876024918477747\n"
          ]
        }
      ]
    },
    {
      "cell_type": "code",
      "source": [],
      "metadata": {
        "id": "jr_10qGgRVaq"
      },
      "execution_count": null,
      "outputs": []
    },
    {
      "cell_type": "code",
      "source": [],
      "metadata": {
        "id": "TcABA2yCYLD3"
      },
      "execution_count": null,
      "outputs": []
    }
  ]
}